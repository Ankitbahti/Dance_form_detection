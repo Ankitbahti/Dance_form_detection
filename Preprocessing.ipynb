{
 "cells": [
  {
   "cell_type": "code",
   "execution_count": 13,
   "id": "b8278179",
   "metadata": {},
   "outputs": [],
   "source": [
    "import numpy as np \n",
    "import pandas as pd \n",
    "from PIL import Image \n",
    "import cv2 \n",
    "import os\n",
    "import dill\n",
    "from sklearn.decomposition import PCA"
   ]
  },
  {
   "cell_type": "code",
   "execution_count": 14,
   "id": "3a3b4144",
   "metadata": {},
   "outputs": [],
   "source": [
    "X=[]\n",
    "Y=[]\n",
    "for file in os.listdir('dataset/train'):\n",
    "    path=os.path.join('dataset/train',file) \n",
    "    img=np.array(Image.open(path).convert('L').resize((100,100))) \n",
    "    edge_img=cv2.Canny(img,100,100,)\n",
    "    X+=[np.ravel(edge_img)]  \n",
    "    Y+=[file.split('.')[0]]\n",
    "X=np.array(X)"
   ]
  },
  {
   "cell_type": "code",
   "execution_count": 3,
   "id": "2eb7c985",
   "metadata": {},
   "outputs": [
    {
     "data": {
      "text/plain": [
       "PCA(n_components=360)"
      ]
     },
     "execution_count": 3,
     "metadata": {},
     "output_type": "execute_result"
    }
   ],
   "source": [
    "pca=PCA(n_components=360) \n",
    "pca.fit(X)"
   ]
  },
  {
   "cell_type": "code",
   "execution_count": 4,
   "id": "c108d463",
   "metadata": {},
   "outputs": [],
   "source": [
    "with open('pca.h5','wb') as f :\n",
    "    dill.dump(pca,f)"
   ]
  },
  {
   "cell_type": "code",
   "execution_count": 5,
   "id": "eaf8a0fb",
   "metadata": {},
   "outputs": [],
   "source": [
    "X_new=pca.transform(X)"
   ]
  },
  {
   "cell_type": "code",
   "execution_count": 15,
   "id": "bcd5a1eb",
   "metadata": {},
   "outputs": [],
   "source": [
    "pd.DataFrame(X,index=Y).to_csv('images.csv')"
   ]
  },
  {
   "cell_type": "code",
   "execution_count": null,
   "id": "de5aad5c",
   "metadata": {},
   "outputs": [],
   "source": []
  }
 ],
 "metadata": {
  "kernelspec": {
   "display_name": "Python 3 (ipykernel)",
   "language": "python",
   "name": "python3"
  },
  "language_info": {
   "codemirror_mode": {
    "name": "ipython",
    "version": 3
   },
   "file_extension": ".py",
   "mimetype": "text/x-python",
   "name": "python",
   "nbconvert_exporter": "python",
   "pygments_lexer": "ipython3",
   "version": "3.8.8"
  }
 },
 "nbformat": 4,
 "nbformat_minor": 5
}
